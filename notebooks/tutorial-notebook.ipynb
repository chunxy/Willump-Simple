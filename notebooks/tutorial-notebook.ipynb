{
 "cells": [
  {
   "cell_type": "markdown",
   "metadata": {},
   "source": [
    "# WILLUMP - Tutorial\n",
    "\n",
    "In this notebook, we'll explain how to use  Willump to improve the performance of feature computation in ML inference applications.\n",
    "\n",
    "This version of Willump works specifically on binary classification problems. It improves performance via cascades. It tries to predict each data input using an approximate model trained on a handful of high-value, low cost features. For each data input, it returns the approximate prediction if the model's confidence in it is high, but otherwise computes all remaining features and predicts with the original model. For an in-depth demo explaining how Willump works, please see the [explanation notebook](https://github.com/stanford-futuredata/Willump-Simple/blob/master/notebooks/explanation-notebook.ipynb) or [our paper](http://petereliaskraft.net/res/willump.pdf).\n",
    "\n",
    "We're going to be optimizing a specific application, which predicts whether a content of a text post is toxic. The application was adapted from a entrant in Kaggle's Toxic Comment Classification Challenge.\n",
    "\n",
    "First, let's import dependencies. Be sure that the printed working directory is the root directory of the Willump-Simple package.\n"
   ]
  },
  {
   "cell_type": "code",
   "execution_count": 1,
   "metadata": {},
   "outputs": [
    {
     "name": "stdout",
     "output_type": "stream",
     "text": [
      "/mnt/c/Users/Peter/Documents/GitHub/Willump-Simple\n"
     ]
    }
   ],
   "source": [
    "import os\n",
    "import sys\n",
    "import numpy as np\n",
    "import pandas as pd\n",
    "from sklearn.linear_model import LogisticRegression\n",
    "from sklearn.metrics import roc_auc_score\n",
    "from sklearn.feature_extraction.text import TfidfVectorizer\n",
    "from sklearn.model_selection import train_test_split\n",
    "import time\n",
    "import scipy.sparse\n",
    "if (os.getcwd().endswith(\"notebooks\")):\n",
    "    os.chdir(\"..\")\n",
    "sys.path.insert(0, os.path.abspath(\"tests/benchmark_scripts\"))\n",
    "print(os.getcwd())"
   ]
  },
  {
   "cell_type": "markdown",
   "metadata": {},
   "source": [
    "For Willump to optimize an application with cascades, it must define training, prediction, confidence, and scoring functions.  Each must match an interface.\n",
    "\n",
    "The training function must take in two arguments.  The first is a vector of binary labels, the second is a list of feature matrices (where each feature matrix has one row per label).  It must return a trained model, which can be of any type.\n",
    "\n",
    "The prediction function must take in two arguments.  The first is a model of the type returned by the training function.  The second is a list of feature matrices just as in the training function.  It must return a vector of binary predictions, one for each row in the feature matrices.\n",
    "\n",
    "The arguments of the confidence function are the same as those of the prediction function.  It must return a vector of confidence values, one for each row in the feature matrices, each of which is the probability that the prediction for the row is 1.\n",
    "\n",
    "The scoring function must take in two arguments.  The first is a vector of binary labels, the second is a vector of binary predictions.  It returns a score of the prediction where higher scores are better."
   ]
  },
  {
   "cell_type": "code",
   "execution_count": 2,
   "metadata": {},
   "outputs": [],
   "source": [
    "def toxic_train(y, X_list):\n",
    "    X = scipy.sparse.hstack([*X_list], format=\"csr\")\n",
    "    model = LogisticRegression(C=0.1, solver='sag')\n",
    "    model = model.fit(X, y)\n",
    "    return model\n",
    "\n",
    "\n",
    "def toxic_predict(model, X_list):\n",
    "    X = scipy.sparse.hstack([*X_list], format=\"csr\")\n",
    "    if X.shape[0] == 0:\n",
    "        return np.zeros(0, dtype=np.int64)\n",
    "    else:\n",
    "        return model.predict(X)\n",
    "\n",
    "\n",
    "def toxic_confidence(model, X_list):\n",
    "    X = scipy.sparse.hstack([*X_list], format=\"csr\")\n",
    "    if X.shape[0] == 0:\n",
    "        return np.zeros(0, dtype=np.float64)\n",
    "    else:\n",
    "        return model.predict_proba(X)[:, 1]\n",
    "\n",
    "\n",
    "def toxic_score(true_y, pred_y):\n",
    "    return roc_auc_score(true_y, pred_y)"
   ]
  },
  {
   "cell_type": "markdown",
   "metadata": {},
   "source": [
    "Before Willump can optimize an application using cascades, it must train the cascades.  We do this at model training time.\n",
    "We write the model training pipeline in a specific format, like the example below.\n",
    "\n",
    "The pipeline must be written as a Python function.  Each line of the pipeline must be of the form y = f(x<sub>1</sub>, ..., x<sub>n</sub>) where y and x<sub>1</sub>, ..., x<sub>n</sub> are all Python variables and f is a Python function.  The last line of the pipeline must call the train function defined above and return.\n",
    "\n",
    "The interface for Willump is a decorator, as in the below example.  The decorator has five mandatory arguments.  Four are the train, predict, confidence, and scoring functions as described above.  The fifth is the cascades dictionary, used as a callback.  It is initially empty, but as Willump executes it will store in it metadata about the cascades optimization.  After Willump is done training, we save the dictionary and later use it at prediction time."
   ]
  },
  {
   "cell_type": "code",
   "execution_count": 3,
   "metadata": {},
   "outputs": [],
   "source": [
    "from willump.evaluation.willump_executor import willump_execute\n",
    "\n",
    "cascades_dict = {}\n",
    "\n",
    "def transform_data(data, vectorizer):\n",
    "    return vectorizer.transform(data)\n",
    "\n",
    "@willump_execute(train_function=toxic_train,\n",
    "                 predict_function=toxic_predict,\n",
    "                 confidence_function=toxic_confidence,\n",
    "                 score_function=toxic_score,\n",
    "                 train_cascades_params=cascades_dict)\n",
    "def toxic_train_pipeline(input_x, input_y, word_vect, char_vect):\n",
    "    word_features = transform_data(input_x, word_vect)\n",
    "    char_features = transform_data(input_x, char_vect)\n",
    "    return toxic_train(input_y, [word_features, char_features])"
   ]
  },
  {
   "cell_type": "markdown",
   "metadata": {},
   "source": [
    "This code prepares training and test sets for our example."
   ]
  },
  {
   "cell_type": "code",
   "execution_count": 4,
   "metadata": {},
   "outputs": [
    {
     "data": {
      "text/plain": [
       "TfidfVectorizer(analyzer='char', encoding='ascii', lowercase=False,\n",
       "                max_features=50000, ngram_range=(2, 6))"
      ]
     },
     "execution_count": 4,
     "metadata": {},
     "output_type": "execute_result"
    }
   ],
   "source": [
    "base_directory = \"tests/test_resources/toxic_resources/\"\n",
    "df = pd.read_csv(base_directory + 'train.csv').fillna(' ')\n",
    "y = df[\"toxic\"]\n",
    "X = df[\"comment_text\"].values\n",
    "train_X, test_X, train_y, test_y = train_test_split(X, y, test_size=0.2, random_state=42)\n",
    "word_vectorizer = TfidfVectorizer(\n",
    "    lowercase=False,\n",
    "    analyzer='word',\n",
    "    stop_words='english',\n",
    "    ngram_range=(1, 1),\n",
    "    encoding=\"ascii\",\n",
    "    decode_error=\"strict\",\n",
    "    max_features=10000)\n",
    "word_vectorizer.fit(train_X)\n",
    "char_vectorizer = TfidfVectorizer(\n",
    "    lowercase=False,\n",
    "    analyzer='char',\n",
    "    ngram_range=(2, 6),\n",
    "    encoding=\"ascii\",\n",
    "    decode_error=\"strict\",\n",
    "    max_features=50000)\n",
    "char_vectorizer.fit(train_X)"
   ]
  },
  {
   "cell_type": "markdown",
   "metadata": {},
   "source": [
    "Now that we have defined the training pipeline and prepared the training set, we can train cascades.  We simply run the training pipeline twice, once to make measurements and once to actually train cascades.  As we can see, the trained cascades are stored in the cascades dictionary.  We can use this to make fast predictions with cascades."
   ]
  },
  {
   "cell_type": "code",
   "execution_count": 5,
   "metadata": {},
   "outputs": [
    {
     "name": "stdout",
     "output_type": "stream",
     "text": [
      "Feature: char_features             Cost: 99.597 Importance:  0.178\n",
      "Feature: word_features             Cost:  3.642 Importance:  0.130\n",
      "Cutoff: 0.100000 Threshold: 0.900000 Expected Cost: 24.173412\n",
      "Cascades dict contents: {'selected_feature_indices': [0], 'cascade_threshold': 0.9, 'full_model': LogisticRegression(C=0.1, solver='sag'), 'approximate_model': LogisticRegression(C=0.1, solver='sag')}\n"
     ]
    }
   ],
   "source": [
    "toxic_train_pipeline(train_X, train_y, word_vectorizer, char_vectorizer)\n",
    "model = toxic_train_pipeline(train_X, train_y, word_vectorizer, char_vectorizer)\n",
    "print(\"Cascades dict contents:\", cascades_dict)"
   ]
  },
  {
   "cell_type": "markdown",
   "metadata": {},
   "source": [
    "First we make predictions without cascades so we have a baseline for performance and accuracy."
   ]
  },
  {
   "cell_type": "code",
   "execution_count": 6,
   "metadata": {},
   "outputs": [
    {
     "name": "stdout",
     "output_type": "stream",
     "text": [
      "Elapsed Time 28.216466s\n",
      "ROC-AUC Score Score: 0.939213\n"
     ]
    }
   ],
   "source": [
    "def toxic_eval_pipeline(input_x, model, word_vect, char_vect):\n",
    "    word_features = transform_data(input_x, word_vect)\n",
    "    char_features = transform_data(input_x, char_vect)\n",
    "    return toxic_predict(model, [word_features, char_features])\n",
    "\n",
    "time_start = time.time()\n",
    "preds = toxic_eval_pipeline(test_X, model, word_vectorizer, char_vectorizer)\n",
    "unopt_time_elapsed = time.time() - time_start\n",
    "print(\"Elapsed Time %fs\" % unopt_time_elapsed)\n",
    "\n",
    "print(\"ROC-AUC Score Score: %f\" % toxic_score(preds, test_y))"
   ]
  },
  {
   "cell_type": "markdown",
   "metadata": {},
   "source": [
    "Now we make predictions using cascades!  The prediction pipeline must be identical to the training pipeline except that its last line must make and return predictions instead of training and returning a model.\n",
    "\n",
    "We run the optimized pipeline and see it is much faster than, but just as accurate as, the original pipeline!"
   ]
  },
  {
   "cell_type": "code",
   "execution_count": 7,
   "metadata": {},
   "outputs": [
    {
     "name": "stdout",
     "output_type": "stream",
     "text": [
      "Elapsed Time 28.216466s\n",
      "ROC-AUC Score Score: 0.939138\n"
     ]
    }
   ],
   "source": [
    "@willump_execute(predict_function=toxic_predict,\n",
    "                 confidence_function=toxic_confidence,\n",
    "                 predict_cascades_params=cascades_dict)\n",
    "def toxic_eval_pipeline_cascades(input_x, model, word_vect, char_vect):\n",
    "    word_features = transform_data(input_x, word_vect)\n",
    "    char_features = transform_data(input_x, char_vect)\n",
    "    return toxic_predict(model, [word_features, char_features])\n",
    "\n",
    "toxic_eval_pipeline_cascades(test_X[:1000], model, word_vectorizer, char_vectorizer)\n",
    "toxic_eval_pipeline_cascades(test_X[:1000], model, word_vectorizer, char_vectorizer)\n",
    "time_start = time.time()\n",
    "preds = toxic_eval_pipeline_cascades(test_X, model, word_vectorizer, char_vectorizer)\n",
    "cascades_time_elapsed = time.time() - time_start\n",
    "print(\"Elapsed Time %fs\" % unopt_time_elapsed)\n",
    "\n",
    "print(\"ROC-AUC Score Score: %f\" % toxic_score(preds, test_y))"
   ]
  },
  {
   "cell_type": "markdown",
   "metadata": {},
   "source": [
    "To visualize the difference, we can plot performance.  Cascades are far faster!\n",
    "\n",
    "If you are interested in exactly how cascades work, please see our [other notebook](https://github.com/stanford-futuredata/Willump-Simple/blob/master/notebooks/explanation-notebook.ipynb) or [our paper](http://petereliaskraft.net/res/willump.pdf)."
   ]
  },
  {
   "cell_type": "code",
   "execution_count": 8,
   "metadata": {},
   "outputs": [
    {
     "data": {
      "image/png": "[encoded data removed]",
      "text/plain": [
       "<Figure size 432x288 with 1 Axes>"
      ]
     },
     "metadata": {
      "needs_background": "light"
     },
     "output_type": "display_data"
    }
   ],
   "source": [
    "import matplotlib.pyplot as plt\n",
    "plt.rcParams['axes.labelsize'] = 16\n",
    "plt.rcParams['xtick.labelsize'] = 16\n",
    "plt.rcParams['ytick.labelsize'] = 16\n",
    "fig, axes = plt.subplots(figsize=(6, 4), ncols=1, nrows=1,\n",
    "                         sharex=False, sharey=False)\n",
    "x = np.arange(2)\n",
    "width = 0.5  # the width of the bars\n",
    "num_rows = len(test_X)\n",
    "\n",
    "bars = axes.bar(x, [num_rows / unopt_time_elapsed, num_rows / cascades_time_elapsed], width)\n",
    "axes.set(xlabel='', ylabel='Throughput (rows/sec)')\n",
    "axes.set_xticks(x)\n",
    "axes.set_xticklabels([\"Unoptimized\", \"Cascades\"])\n",
    "plt.show()"
   ]
  }
 ],
 "metadata": {
  "kernelspec": {
   "display_name": "Python 3",
   "language": "python",
   "name": "python3"
  },
  "language_info": {
   "codemirror_mode": {
    "name": "ipython",
    "version": 3
   },
   "file_extension": ".py",
   "mimetype": "text/x-python",
   "name": "python",
   "nbconvert_exporter": "python",
   "pygments_lexer": "ipython3",
   "version": "3.6.9"
  }
 },
 "nbformat": 4,
 "nbformat_minor": 4
}
