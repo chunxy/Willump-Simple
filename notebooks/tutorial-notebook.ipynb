{
 "cells": [
  {
   "cell_type": "code",
   "execution_count": 1,
   "metadata": {},
   "outputs": [
    {
     "name": "stdout",
     "output_type": "stream",
     "text": [
      "/mnt/c/Users/Peter/Documents/GitHub/Willump-Simple\n"
     ]
    }
   ],
   "source": [
    "import os\n",
    "import sys\n",
    "import numpy as np\n",
    "import pandas as pd\n",
    "from sklearn.linear_model import LogisticRegression\n",
    "from sklearn.metrics import roc_auc_score\n",
    "from sklearn.feature_extraction.text import TfidfVectorizer\n",
    "from sklearn.model_selection import train_test_split\n",
    "import time\n",
    "import scipy.sparse\n",
    "if (os.getcwd().endswith(\"notebooks\")):\n",
    "    os.chdir(\"..\")\n",
    "sys.path.insert(0, os.path.abspath(\"tests/benchmark_scripts\"))\n",
    "print(os.getcwd())"
   ]
  },
  {
   "cell_type": "code",
   "execution_count": 2,
   "metadata": {},
   "outputs": [],
   "source": [
    "def toxic_train(y, X_list):\n",
    "    X = scipy.sparse.hstack([*X_list], format=\"csr\")\n",
    "    model = LogisticRegression(C=0.1, solver='sag')\n",
    "    model = model.fit(X, y)\n",
    "    return model\n",
    "\n",
    "\n",
    "def toxic_predict(model, X_list):\n",
    "    X = scipy.sparse.hstack([*X_list], format=\"csr\")\n",
    "    if X.shape[0] == 0:\n",
    "        return np.zeros(0, dtype=np.int64)\n",
    "    else:\n",
    "        return model.predict(X)\n",
    "\n",
    "\n",
    "def toxic_confidence(model, X_list):\n",
    "    X = scipy.sparse.hstack([*X_list], format=\"csr\")\n",
    "    if X.shape[0] == 0:\n",
    "        return np.zeros(0, dtype=np.float64)\n",
    "    else:\n",
    "        return model.predict_proba(X)[:, 1]\n",
    "\n",
    "\n",
    "def toxic_score(true_y, pred_y):\n",
    "    return roc_auc_score(true_y, pred_y)"
   ]
  },
  {
   "cell_type": "code",
   "execution_count": 3,
   "metadata": {},
   "outputs": [],
   "source": [
    "from willump.evaluation.willump_executor import willump_execute\n",
    "\n",
    "cascades_dict = {}\n",
    "\n",
    "def transform_data(data, vectorizer):\n",
    "    return vectorizer.transform(data)\n",
    "\n",
    "@willump_execute(train_function=toxic_train,\n",
    "                 predict_function=toxic_predict,\n",
    "                 confidence_function=toxic_confidence,\n",
    "                 score_function=toxic_score,\n",
    "                 train_cascades_params=cascades_dict)\n",
    "def toxic_train_pipeline(input_x, input_y, word_vect, char_vect):\n",
    "    word_features = transform_data(input_x, word_vect)\n",
    "    char_features = transform_data(input_x, char_vect)\n",
    "    return toxic_train(input_y, [word_features, char_features])"
   ]
  },
  {
   "cell_type": "code",
   "execution_count": 4,
   "metadata": {},
   "outputs": [
    {
     "data": {
      "text/plain": [
       "TfidfVectorizer(analyzer='char', encoding='ascii', lowercase=False,\n",
       "                max_features=50000, ngram_range=(2, 6))"
      ]
     },
     "execution_count": 4,
     "metadata": {},
     "output_type": "execute_result"
    }
   ],
   "source": [
    "base_directory = \"tests/test_resources/toxic_resources/\"\n",
    "df = pd.read_csv(base_directory + 'train.csv').fillna(' ')\n",
    "y = df[\"toxic\"]\n",
    "X = df[\"comment_text\"].values\n",
    "train_X, test_X, train_y, test_y = train_test_split(X, y, test_size=0.2, random_state=42)\n",
    "word_vectorizer = TfidfVectorizer(\n",
    "    lowercase=False,\n",
    "    analyzer='word',\n",
    "    stop_words='english',\n",
    "    ngram_range=(1, 1),\n",
    "    encoding=\"ascii\",\n",
    "    decode_error=\"strict\",\n",
    "    max_features=10000)\n",
    "word_vectorizer.fit(train_X)\n",
    "char_vectorizer = TfidfVectorizer(\n",
    "    lowercase=False,\n",
    "    analyzer='char',\n",
    "    ngram_range=(2, 6),\n",
    "    encoding=\"ascii\",\n",
    "    decode_error=\"strict\",\n",
    "    max_features=50000)\n",
    "char_vectorizer.fit(train_X)"
   ]
  },
  {
   "cell_type": "code",
   "execution_count": 5,
   "metadata": {},
   "outputs": [
    {
     "name": "stdout",
     "output_type": "stream",
     "text": [
      "Feature: char_features             Cost: 99.042 Importance:  0.178\n",
      "Feature: word_features             Cost:  3.684 Importance:  0.130\n",
      "Cutoff: 0.100000 Threshold: 0.900000 Expected Cost: 24.101649\n"
     ]
    }
   ],
   "source": [
    "toxic_train_pipeline(train_X, train_y, word_vectorizer, char_vectorizer)\n",
    "model = toxic_train_pipeline(train_X, train_y, word_vectorizer, char_vectorizer)"
   ]
  },
  {
   "cell_type": "code",
   "execution_count": 6,
   "metadata": {},
   "outputs": [
    {
     "name": "stdout",
     "output_type": "stream",
     "text": [
      "Elapsed Time 28.091385s\n",
      "ROC-AUC Score Score: 0.939213\n"
     ]
    }
   ],
   "source": [
    "def toxic_eval_pipeline(input_x, model, word_vect, char_vect):\n",
    "    word_features = transform_data(input_x, word_vect)\n",
    "    char_features = transform_data(input_x, char_vect)\n",
    "    return toxic_predict(model, [word_features, char_features])\n",
    "\n",
    "time_start = time.time()\n",
    "preds = toxic_eval_pipeline(test_X, model, word_vectorizer, char_vectorizer)\n",
    "unopt_time_elapsed = time.time() - time_start\n",
    "print(\"Elapsed Time %fs\" % unopt_time_elapsed)\n",
    "\n",
    "print(\"ROC-AUC Score Score: %f\" % toxic_score(preds, test_y))"
   ]
  },
  {
   "cell_type": "code",
   "execution_count": 7,
   "metadata": {},
   "outputs": [
    {
     "name": "stdout",
     "output_type": "stream",
     "text": [
      "Elapsed Time 28.091385s\n",
      "ROC-AUC Score Score: 0.939138\n"
     ]
    }
   ],
   "source": [
    "@willump_execute(predict_function=toxic_predict,\n",
    "                 confidence_function=toxic_confidence,\n",
    "                 predict_cascades_params=cascades_dict)\n",
    "def toxic_eval_pipeline_cascades(input_x, model, word_vect, char_vect):\n",
    "    word_features = transform_data(input_x, word_vect)\n",
    "    char_features = transform_data(input_x, char_vect)\n",
    "    return toxic_predict(model, [word_features, char_features])\n",
    "\n",
    "toxic_eval_pipeline_cascades(test_X[:1000], model, word_vectorizer, char_vectorizer)\n",
    "toxic_eval_pipeline_cascades(test_X[:1000], model, word_vectorizer, char_vectorizer)\n",
    "time_start = time.time()\n",
    "preds = toxic_eval_pipeline_cascades(test_X, model, word_vectorizer, char_vectorizer)\n",
    "cascades_time_elapsed = time.time() - time_start\n",
    "print(\"Elapsed Time %fs\" % unopt_time_elapsed)\n",
    "\n",
    "print(\"ROC-AUC Score Score: %f\" % toxic_score(preds, test_y))"
   ]
  },
  {
   "cell_type": "code",
   "execution_count": 8,
   "metadata": {},
   "outputs": [
    {
     "data": {
      "image/png": "[encoded data removed]",
      "text/plain": [
       "<Figure size 432x288 with 1 Axes>"
      ]
     },
     "metadata": {
      "needs_background": "light"
     },
     "output_type": "display_data"
    }
   ],
   "source": [
    "import matplotlib.pyplot as plt\n",
    "plt.rcParams['axes.labelsize'] = 16\n",
    "plt.rcParams['xtick.labelsize'] = 16\n",
    "plt.rcParams['ytick.labelsize'] = 16\n",
    "fig, axes = plt.subplots(figsize=(6, 4), ncols=1, nrows=1,\n",
    "                         sharex=False, sharey=False)\n",
    "x = np.arange(2)\n",
    "width = 0.5  # the width of the bars\n",
    "num_rows = len(test_X)\n",
    "\n",
    "bars = axes.bar(x, [num_rows / unopt_time_elapsed, num_rows / cascades_time_elapsed], width)\n",
    "axes.set(xlabel='', ylabel='Throughput (rows/sec)')\n",
    "axes.set_xticks(x)\n",
    "axes.set_xticklabels([\"Unoptimized\", \"Cascades\"])\n",
    "plt.show()"
   ]
  }
 ],
 "metadata": {
  "kernelspec": {
   "display_name": "Python 3",
   "language": "python",
   "name": "python3"
  },
  "language_info": {
   "codemirror_mode": {
    "name": "ipython",
    "version": 3
   },
   "file_extension": ".py",
   "mimetype": "text/x-python",
   "name": "python",
   "nbconvert_exporter": "python",
   "pygments_lexer": "ipython3",
   "version": "3.6.9"
  }
 },
 "nbformat": 4,
 "nbformat_minor": 4
}
