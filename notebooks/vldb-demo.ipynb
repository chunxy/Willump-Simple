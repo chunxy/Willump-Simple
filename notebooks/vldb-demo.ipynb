{
 "cells": [
  {
   "cell_type": "markdown",
   "metadata": {},
   "source": [
    "Hello World!"
   ]
  },
  {
   "cell_type": "code",
   "execution_count": 1,
   "metadata": {},
   "outputs": [
    {
     "name": "stdout",
     "output_type": "stream",
     "text": [
      "/mnt/c/Users/Peter/Documents/GitHub/Willump-Simple\n"
     ]
    }
   ],
   "source": [
    "import os\n",
    "import sys\n",
    "import willump\n",
    "if (os.getcwd().endswith(\"notebooks\")):\n",
    "    os.chdir(\"..\")\n",
    "sys.path.insert(0, os.path.abspath(\"tests/benchmark_scripts\"))\n",
    "print(os.getcwd())\n",
    "import music_utils"
   ]
  }
 ],
 "metadata": {
  "kernelspec": {
   "display_name": "Python 3",
   "language": "python",
   "name": "python3"
  },
  "language_info": {
   "codemirror_mode": {
    "name": "ipython",
    "version": 3
   },
   "file_extension": ".py",
   "mimetype": "text/x-python",
   "name": "python",
   "nbconvert_exporter": "python",
   "pygments_lexer": "ipython3",
   "version": "3.6.9"
  }
 },
 "nbformat": 4,
 "nbformat_minor": 4
}
