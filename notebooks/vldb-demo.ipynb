{
 "cells": [
  {
   "cell_type": "markdown",
   "metadata": {},
   "source": [
    "Hello World!"
   ]
  },
  {
   "cell_type": "code",
   "execution_count": 1,
   "metadata": {},
   "outputs": [
    {
     "name": "stdout",
     "output_type": "stream",
     "text": [
      "/mnt/c/Users/Peter/Documents/GitHub/Willump-Simple\n"
     ]
    }
   ],
   "source": [
    "import os\n",
    "import sys\n",
    "import numpy as np\n",
    "import pandas as pd\n",
    "import sklearn\n",
    "import time\n",
    "from lightgbm import LGBMClassifier\n",
    "import redis\n",
    "if (os.getcwd().endswith(\"notebooks\")):\n",
    "    os.chdir(\"..\")\n",
    "sys.path.insert(0, os.path.abspath(\"tests/benchmark_scripts\"))\n",
    "print(os.getcwd())\n",
    "import music_utils\n",
    "from music_utils import get_features_from_redis"
   ]
  },
  {
   "cell_type": "code",
   "execution_count": 2,
   "metadata": {},
   "outputs": [],
   "source": [
    "db = redis.StrictRedis(host=\"localhost\")\n",
    "train_X, test_X, train_y, test_y = music_utils.load_music_dataset(db)\n",
    "train_cascades_dict = {}"
   ]
  },
  {
   "cell_type": "code",
   "execution_count": 3,
   "metadata": {},
   "outputs": [],
   "source": [
    "def music_train(y, X_list):\n",
    "    X = pd.concat(X_list, axis=1)\n",
    "    X = X[[f for f in music_utils.FEATURES if f in X.columns]]\n",
    "    model = LGBMClassifier(\n",
    "        n_jobs=1,\n",
    "        learning_rate=0.1,\n",
    "        num_leaves=(2 ** 8),\n",
    "        max_depth=15,\n",
    "        metric=\"auc\")\n",
    "    model = model.fit(X, y)\n",
    "    return model\n",
    "\n",
    "\n",
    "def music_predict(model, X_list):\n",
    "    X = pd.concat(X_list, axis=1)\n",
    "    X = X[[f for f in music_utils.FEATURES if f in X.columns]]\n",
    "    if len(X) == 0:\n",
    "        return np.zeros(0, dtype=np.float32)\n",
    "    else:\n",
    "        return model.predict(X)\n",
    "\n",
    "\n",
    "def music_predict_proba(model, X_list):\n",
    "    X = pd.concat(X_list, axis=1)\n",
    "    X = X[[f for f in music_utils.FEATURES if f in X.columns]]\n",
    "    return model.predict_proba(X)[:, 1]\n",
    "\n",
    "\n",
    "def music_score(true_y, pred_y):\n",
    "    fpr, tpr, _ = sklearn.metrics.roc_curve(true_y, pred_y, pos_label=1)\n",
    "    return sklearn.metrics.auc(fpr, tpr)"
   ]
  },
  {
   "cell_type": "code",
   "execution_count": 4,
   "metadata": {},
   "outputs": [],
   "source": [
    "from willump.evaluation.willump_executor import willump_execute\n",
    "\n",
    "@willump_execute(train_function=music_train,\n",
    "                 predict_function=music_predict,\n",
    "                 predict_proba_function=music_predict_proba,\n",
    "                 score_function=music_score,\n",
    "                 train_cascades_dict=train_cascades_dict)\n",
    "def music_train_pipeline(input_X, input_y):\n",
    "    user_latent_features = get_features_from_redis(input_X, column=\"msno\", name=\"features_uf\", db=db)\n",
    "    song_latent_features = get_features_from_redis(input_X, column=\"song_id\", name=\"features_sf\", db=db)\n",
    "    user_cluster_features = get_features_from_redis(input_X, column=\"cluster_msno_25\", name=\"uc_features\", db=db)\n",
    "    song_cluster_features = get_features_from_redis(input_X, column=\"cluster_song_id_25\", name=\"sc_features\", db=db)\n",
    "    artist_cluster_features = get_features_from_redis(input_X, column=\"cluster_artist_name_25\", name=\"ac_features\", db=db)\n",
    "    user_features = get_features_from_redis(input_X, column=\"msno\", name=\"us_features\", db=db)\n",
    "    song_features = get_features_from_redis(input_X, column=\"song_id\", name=\"ss_features\", db=db)\n",
    "    artist_features = get_features_from_redis(input_X, column=\"artist_name\", name=\"as_features\", db=db)\n",
    "    genre_features = get_features_from_redis(input_X, column=\"genre_max\", name=\"gs_features\", db=db)\n",
    "    city_features = get_features_from_redis(input_X, column=\"city\", name=\"cs_features\", db=db)\n",
    "    ages_features = get_features_from_redis(input_X, column=\"bd\", name=\"ages_features\", db=db)\n",
    "    language_features = get_features_from_redis(input_X, column=\"language\", name=\"ls_features\", db=db)\n",
    "    gender_features = get_features_from_redis(input_X, column=\"gender\", name=\"gender_features\", db=db)\n",
    "    composer_features = get_features_from_redis(input_X, column=\"composer\", name=\"composer_features\", db=db)\n",
    "    lyrs_features = get_features_from_redis(input_X, column=\"lyricist\", name=\"lyrs_features\", db=db)\n",
    "    sns_features = get_features_from_redis(input_X, column=\"source_screen_name\", name=\"sns_features\", db=db)\n",
    "    stabs_features = get_features_from_redis(input_X, column=\"source_system_tab\", name=\"stabs_features\", db=db)\n",
    "    stypes_features = get_features_from_redis(input_X, column=\"source_type\", name=\"stypes_features\", db=db)\n",
    "    regs_features = get_features_from_redis(input_X, column=\"registered_via\", name=\"regs_features\", db=db)\n",
    "    return music_train(input_y,\n",
    "                       [user_latent_features, song_latent_features, user_cluster_features, song_cluster_features,\n",
    "                        artist_cluster_features, user_features, song_features, artist_features, genre_features,\n",
    "                        city_features, ages_features, language_features, gender_features, composer_features,\n",
    "                        lyrs_features, sns_features, stabs_features, stypes_features,\n",
    "                        regs_features])"
   ]
  },
  {
   "cell_type": "code",
   "execution_count": 5,
   "metadata": {},
   "outputs": [
    {
     "name": "stdout",
     "output_type": "stream",
     "text": [
      "{'user_latent_features': 1.0, 'song_latent_features': 1.0, 'user_cluster_features': 1.0, 'song_cluster_features': 1.0, 'artist_cluster_features': 1.0, 'user_features': 1.0, 'song_features': 1.0, 'artist_features': 1.0, 'genre_features': 1.0, 'city_features': 1.0, 'ages_features': 1.0, 'language_features': 1.0, 'gender_features': 1.0, 'composer_features': 1.0, 'lyrs_features': 1.0, 'sns_features': 1.0, 'stabs_features': 1.0, 'stypes_features': 1.0, 'regs_features': 1.0}\n"
     ]
    }
   ],
   "source": [
    "train_X_features, feature_costs, feature_names = music_utils.compute_features(train_X, db)\n",
    "print(feature_costs)"
   ]
  },
  {
   "cell_type": "code",
   "execution_count": 6,
   "metadata": {},
   "outputs": [
    {
     "name": "stdout",
     "output_type": "stream",
     "text": [
      "{'user_latent_features': 0.10213267431559958, 'song_latent_features': 0.02305952441123338, 'user_cluster_features': 0.03969030068127466, 'song_cluster_features': 0.038511637001114485, 'artist_cluster_features': 0.010671684671719195, 'user_features': 0.015471531976813724, 'song_features': -0.0008132200801782563, 'artist_features': 0.0017234040855196309, 'genre_features': 0.004596475780300091, 'city_features': 0.006085051594384772, 'ages_features': 0.003875165264303093, 'language_features': 0.002185678601165697, 'gender_features': 0.0009996328937811327, 'composer_features': 0.00040907071583040633, 'lyrs_features': -0.0014232016450616003, 'sns_features': 0.033414313950302255, 'stabs_features': 0.01599452532899892, 'stypes_features': 0.007626831208284779, 'regs_features': 0.006837818857022726}\n"
     ]
    }
   ],
   "source": [
    "from willump.evaluation import cascades_construct\n",
    "\n",
    "cascades_train_X, cascades_valid_X, cascades_train_y, cascades_valid_y = \\\n",
    "    cascades_construct.train_test_split(train_X_features, train_y, test_size=0.25, random_state=42)\n",
    "train_set_full_model = music_train(cascades_train_y, cascades_train_X)\n",
    "\n",
    "feature_importances = cascades_construct.calculate_feature_importances(train_set_full_model,\n",
    "                                                                       cascades_valid_X, cascades_valid_y,\n",
    "                                                                       music_predict, music_score,\n",
    "                                                                       feature_names)\n",
    "print(feature_importances)\n",
    "\n",
    "    "
   ]
  },
  {
   "cell_type": "code",
   "execution_count": 7,
   "metadata": {},
   "outputs": [
    {
     "name": "stdout",
     "output_type": "stream",
     "text": [
      "['user_latent_features', 'song_latent_features', 'user_cluster_features', 'song_cluster_features', 'artist_cluster_features', 'user_features', 'sns_features', 'stabs_features', 'stypes_features']\n",
      "Threshold: 0.600000 Expected Cost: 10.823030\n"
     ]
    }
   ],
   "source": [
    "total_feature_cost = sum(feature_costs.values())\n",
    "cost_cutoff = 0.5 * total_feature_cost\n",
    "selected_indices = cascades_construct.select_features(feature_costs, feature_importances, cost_cutoff)\n",
    "selected_features = [feature_names[i] for i in selected_indices]\n",
    "\n",
    "print(selected_features)\n",
    "\n",
    "selected_feature_cost = sum(feature_costs[feature_names[i]] for i in selected_indices)\n",
    "\n",
    "threshold, expected_cost = cascades_construct.calculate_feature_set_performance(cascades_train_X, cascades_train_y, \n",
    "                                                             cascades_valid_X, cascades_valid_y,\n",
    "                                                             selected_indices,\n",
    "                                                             music_train, music_predict,\n",
    "                                                             music_predict_proba, music_score,\n",
    "                                                             train_set_full_model,\n",
    "                                                             selected_feature_cost,\n",
    "                                                             total_feature_cost)\n",
    "\n",
    "print(\"Threshold: %f Expected Cost: %f\" % (threshold, expected_cost))"
   ]
  },
  {
   "cell_type": "code",
   "execution_count": 8,
   "metadata": {},
   "outputs": [
    {
     "name": "stdout",
     "output_type": "stream",
     "text": [
      "['user_latent_features', 'user_cluster_features', 'song_cluster_features', 'sns_features']\n",
      "Threshold: 0.600000 Expected Cost: 6.479664\n"
     ]
    }
   ],
   "source": [
    "total_feature_cost = sum(feature_costs.values())\n",
    "cost_cutoff = 0.25 * total_feature_cost\n",
    "selected_indices = cascades_construct.select_features(feature_costs, feature_importances, cost_cutoff)\n",
    "selected_features = [feature_names[i] for i in selected_indices]\n",
    "\n",
    "print(selected_features)\n",
    "\n",
    "selected_feature_cost = sum(feature_costs[feature_names[i]] for i in selected_indices)\n",
    "\n",
    "threshold, expected_cost = cascades_construct.calculate_feature_set_performance(cascades_train_X, cascades_train_y, \n",
    "                                                             cascades_valid_X, cascades_valid_y,\n",
    "                                                             selected_indices,\n",
    "                                                             music_train, music_predict,\n",
    "                                                             music_predict_proba, music_score,\n",
    "                                                             train_set_full_model,\n",
    "                                                             selected_feature_cost,\n",
    "                                                             total_feature_cost)\n",
    "\n",
    "print(\"Threshold: %f Expected Cost: %f\" % (threshold, expected_cost))"
   ]
  },
  {
   "cell_type": "code",
   "execution_count": 9,
   "metadata": {},
   "outputs": [],
   "source": [
    "cascades_params = {}\n",
    "cascades_params[\"selected_feature_indices\"] = selected_indices\n",
    "cascades_params[\"cascade_threshold\"] = threshold\n",
    "full_model = music_train(train_y, train_X_features)\n",
    "cascades_params[\"full_model\"] = full_model\n",
    "approximate_model = music_train(train_y, [train_X_features[i] for i in selected_indices])\n",
    "cascades_params[\"approximate_model\"] = approximate_model"
   ]
  },
  {
   "cell_type": "code",
   "execution_count": null,
   "metadata": {},
   "outputs": [],
   "source": [
    "def music_eval_pipeline(input_X, model):\n",
    "    user_latent_features = get_features_from_redis(input_X, column=\"msno\", name=\"features_uf\", db=db)\n",
    "    song_latent_features = get_features_from_redis(input_X, column=\"song_id\", name=\"features_sf\", db=db)\n",
    "    user_cluster_features = get_features_from_redis(input_X, column=\"cluster_msno_25\", name=\"uc_features\", db=db)\n",
    "    song_cluster_features = get_features_from_redis(input_X, column=\"cluster_song_id_25\", name=\"sc_features\", db=db)\n",
    "    artist_cluster_features = get_features_from_redis(input_X, column=\"cluster_artist_name_25\", name=\"ac_features\", db=db)\n",
    "    user_features = get_features_from_redis(input_X, column=\"msno\", name=\"us_features\", db=db)\n",
    "    song_features = get_features_from_redis(input_X, column=\"song_id\", name=\"ss_features\", db=db)\n",
    "    artist_features = get_features_from_redis(input_X, column=\"artist_name\", name=\"as_features\", db=db)\n",
    "    genre_features = get_features_from_redis(input_X, column=\"genre_max\", name=\"gs_features\", db=db)\n",
    "    city_features = get_features_from_redis(input_X, column=\"city\", name=\"cs_features\", db=db)\n",
    "    ages_features = get_features_from_redis(input_X, column=\"bd\", name=\"ages_features\", db=db)\n",
    "    language_features = get_features_from_redis(input_X, column=\"language\", name=\"ls_features\", db=db)\n",
    "    gender_features = get_features_from_redis(input_X, column=\"gender\", name=\"gender_features\", db=db)\n",
    "    composer_features = get_features_from_redis(input_X, column=\"composer\", name=\"composer_features\", db=db)\n",
    "    lyrs_features = get_features_from_redis(input_X, column=\"lyricist\", name=\"lyrs_features\", db=db)\n",
    "    sns_features = get_features_from_redis(input_X, column=\"source_screen_name\", name=\"sns_features\", db=db)\n",
    "    stabs_features = get_features_from_redis(input_X, column=\"source_system_tab\", name=\"stabs_features\", db=db)\n",
    "    stypes_features = get_features_from_redis(input_X, column=\"source_type\", name=\"stypes_features\", db=db)\n",
    "    regs_features = get_features_from_redis(input_X, column=\"registered_via\", name=\"regs_features\", db=db)\n",
    "    return music_predict(model,\n",
    "                         [user_latent_features, song_latent_features, user_cluster_features, song_cluster_features,\n",
    "                          artist_cluster_features, user_features, song_features, artist_features, genre_features,\n",
    "                          city_features, ages_features, language_features, gender_features, composer_features,\n",
    "                          lyrs_features, sns_features, stabs_features, stypes_features,\n",
    "                          regs_features])\n",
    "\n",
    "time_start = time.time()\n",
    "preds = music_eval_pipeline(test_X, full_model)\n",
    "time_elapsed = time.time() - time_start\n",
    "print(\"Elapsed Time %fs Num Rows %d Throughput %f rows/sec\" %\n",
    "      (time_elapsed, len(test_X), len(test_X) / time_elapsed))\n",
    "\n",
    "print(\"AUC Score: %f\" % music_score(preds, test_y))"
   ]
  },
  {
   "cell_type": "code",
   "execution_count": null,
   "metadata": {},
   "outputs": [],
   "source": [
    "@willump_execute(predict_function=music_predict,\n",
    "                 predict_proba_function=music_predict_proba,\n",
    "                 predict_cascades_dict=cascades_params)\n",
    "def music_eval_pipeline(input_X, model):\n",
    "    user_latent_features = get_features_from_redis(input_X, column=\"msno\", name=\"features_uf\", db=db)\n",
    "    song_latent_features = get_features_from_redis(input_X, column=\"song_id\", name=\"features_sf\", db=db)\n",
    "    user_cluster_features = get_features_from_redis(input_X, column=\"cluster_msno_25\", name=\"uc_features\", db=db)\n",
    "    song_cluster_features = get_features_from_redis(input_X, column=\"cluster_song_id_25\", name=\"sc_features\", db=db)\n",
    "    artist_cluster_features = get_features_from_redis(input_X, column=\"cluster_artist_name_25\", name=\"ac_features\", db=db)\n",
    "    user_features = get_features_from_redis(input_X, column=\"msno\", name=\"us_features\", db=db)\n",
    "    song_features = get_features_from_redis(input_X, column=\"song_id\", name=\"ss_features\", db=db)\n",
    "    artist_features = get_features_from_redis(input_X, column=\"artist_name\", name=\"as_features\", db=db)\n",
    "    genre_features = get_features_from_redis(input_X, column=\"genre_max\", name=\"gs_features\", db=db)\n",
    "    city_features = get_features_from_redis(input_X, column=\"city\", name=\"cs_features\", db=db)\n",
    "    ages_features = get_features_from_redis(input_X, column=\"bd\", name=\"ages_features\", db=db)\n",
    "    language_features = get_features_from_redis(input_X, column=\"language\", name=\"ls_features\", db=db)\n",
    "    gender_features = get_features_from_redis(input_X, column=\"gender\", name=\"gender_features\", db=db)\n",
    "    composer_features = get_features_from_redis(input_X, column=\"composer\", name=\"composer_features\", db=db)\n",
    "    lyrs_features = get_features_from_redis(input_X, column=\"lyricist\", name=\"lyrs_features\", db=db)\n",
    "    sns_features = get_features_from_redis(input_X, column=\"source_screen_name\", name=\"sns_features\", db=db)\n",
    "    stabs_features = get_features_from_redis(input_X, column=\"source_system_tab\", name=\"stabs_features\", db=db)\n",
    "    stypes_features = get_features_from_redis(input_X, column=\"source_type\", name=\"stypes_features\", db=db)\n",
    "    regs_features = get_features_from_redis(input_X, column=\"registered_via\", name=\"regs_features\", db=db)\n",
    "    return music_predict(model,\n",
    "                         [user_latent_features, song_latent_features, user_cluster_features, song_cluster_features,\n",
    "                          artist_cluster_features, user_features, song_features, artist_features, genre_features,\n",
    "                          city_features, ages_features, language_features, gender_features, composer_features,\n",
    "                          lyrs_features, sns_features, stabs_features, stypes_features,\n",
    "                          regs_features])\n",
    "\n",
    "music_eval_pipeline(test_X.iloc[0:100], full_model)\n",
    "music_eval_pipeline(test_X.iloc[0:100], full_model)\n",
    "time_start = time.time()\n",
    "preds = music_eval_pipeline(test_X, full_model)\n",
    "time_elapsed = time.time() - time_start\n",
    "print(\"Elapsed Time %fs Num Rows %d Throughput %f rows/sec\" %\n",
    "      (time_elapsed, len(test_X), len(test_X) / time_elapsed))\n",
    "\n",
    "print(\"AUC Score: %f\" % music_score(preds, test_y))"
   ]
  },
  {
   "cell_type": "code",
   "execution_count": null,
   "metadata": {},
   "outputs": [],
   "source": []
  }
 ],
 "metadata": {
  "kernelspec": {
   "display_name": "Python 3",
   "language": "python",
   "name": "python3"
  },
  "language_info": {
   "codemirror_mode": {
    "name": "ipython",
    "version": 3
   },
   "file_extension": ".py",
   "mimetype": "text/x-python",
   "name": "python",
   "nbconvert_exporter": "python",
   "pygments_lexer": "ipython3",
   "version": "3.6.9"
  }
 },
 "nbformat": 4,
 "nbformat_minor": 4
}
